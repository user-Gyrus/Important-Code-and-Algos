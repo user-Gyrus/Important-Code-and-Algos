{
  "nbformat": 4,
  "nbformat_minor": 0,
  "metadata": {
    "colab": {
      "provenance": [],
      "include_colab_link": true
    },
    "kernelspec": {
      "name": "python3",
      "display_name": "Python 3"
    },
    "language_info": {
      "name": "python"
    }
  },
  "cells": [
    {
      "cell_type": "markdown",
      "metadata": {
        "id": "view-in-github",
        "colab_type": "text"
      },
      "source": [
        "<a href=\"https://colab.research.google.com/github/user-Gyrus/Important-Code-and-Algos/blob/main/MLDL_Assignment.ipynb\" target=\"_parent\"><img src=\"https://colab.research.google.com/assets/colab-badge.svg\" alt=\"Open In Colab\"/></a>"
      ]
    },
    {
      "cell_type": "code",
      "source": [
        "#IMPORTING ALL THE REQUIRED LIBRARIES\n",
        "\n",
        "!#pip install numpy\n",
        "!#pip install pandas\n",
        "\n",
        "import numpy as np\n",
        "import pandas as pd\n",
        "from sklearn.preprocessing import StandardScaler\n",
        "from sklearn.model_selection import train_test_split\n",
        "from sklearn import svm\n",
        "from sklearn.metrics import accuracy_score\n",
        "import matplotlib.pyplot as plt\n",
        "from matplotlib.colors import ListedColormap\n",
        "from sklearn.decomposition import PCA"
      ],
      "metadata": {
        "id": "fMmAHXSW35S7"
      },
      "execution_count": null,
      "outputs": []
    },
    {
      "cell_type": "code",
      "source": [
        "#Dataset collection from kaggle\n",
        "#The given link has been used for the datasets https://www.kaggle.com/datasets/nancyalaswad90/review\n",
        "diabetes_dataset = pd.read_csv('/content/diabetes.csv')"
      ],
      "metadata": {
        "id": "M3arK6KkAOTv"
      },
      "execution_count": 5,
      "outputs": []
    },
    {
      "cell_type": "code",
      "source": [
        "#looking into the data\n",
        "diabetes_dataset.shape"
      ],
      "metadata": {
        "id": "E2EjdHRcAd6Q",
        "colab": {
          "base_uri": "https://localhost:8080/"
        },
        "outputId": "ee712155-3fa0-4206-aa48-2dce0bf9e01c"
      },
      "execution_count": 6,
      "outputs": [
        {
          "output_type": "execute_result",
          "data": {
            "text/plain": [
              "(768, 9)"
            ]
          },
          "metadata": {},
          "execution_count": 6
        }
      ]
    },
    {
      "cell_type": "code",
      "source": [
        "#getting to know how many are diabetic and non-diabetic\n",
        "diabetes_dataset['Outcome'].value_counts()"
      ],
      "metadata": {
        "id": "uuk2ZMZ4Au8N",
        "colab": {
          "base_uri": "https://localhost:8080/"
        },
        "outputId": "ae70547b-621e-4335-deed-1c8b35b7283e"
      },
      "execution_count": 7,
      "outputs": [
        {
          "output_type": "execute_result",
          "data": {
            "text/plain": [
              "Outcome\n",
              "0    500\n",
              "1    268\n",
              "Name: count, dtype: int64"
            ]
          },
          "metadata": {},
          "execution_count": 7
        }
      ]
    },
    {
      "cell_type": "code",
      "source": [
        "#Creating the X and Y parametes for the graph\n",
        "X = diabetes_dataset.drop(columns = 'Outcome', axis = 1)\n",
        "Y = diabetes_dataset['Outcome']\n",
        "#axis = 1 implies we are dropping a column, axis = 0 implies we are dropping a row"
      ],
      "metadata": {
        "id": "h-68yLcJBFBT"
      },
      "execution_count": 8,
      "outputs": []
    },
    {
      "cell_type": "code",
      "source": [
        "#Standardizing the data\n",
        "scaler = StandardScaler()\n",
        "scaler.fit(X)\n",
        "standardized_data = scaler.transform(X)\n",
        "print(standardized_data)"
      ],
      "metadata": {
        "colab": {
          "base_uri": "https://localhost:8080/"
        },
        "id": "_ljmZNYFBwPE",
        "outputId": "deb52917-1c6f-4628-d519-f052b597093e"
      },
      "execution_count": 9,
      "outputs": [
        {
          "output_type": "stream",
          "name": "stdout",
          "text": [
            "[[ 0.63994726  0.84832379  0.14964075 ...  0.20401277  0.46849198\n",
            "   1.4259954 ]\n",
            " [-0.84488505 -1.12339636 -0.16054575 ... -0.68442195 -0.36506078\n",
            "  -0.19067191]\n",
            " [ 1.23388019  1.94372388 -0.26394125 ... -1.10325546  0.60439732\n",
            "  -0.10558415]\n",
            " ...\n",
            " [ 0.3429808   0.00330087  0.14964075 ... -0.73518964 -0.68519336\n",
            "  -0.27575966]\n",
            " [-0.84488505  0.1597866  -0.47073225 ... -0.24020459 -0.37110101\n",
            "   1.17073215]\n",
            " [-0.84488505 -0.8730192   0.04624525 ... -0.20212881 -0.47378505\n",
            "  -0.87137393]]\n"
          ]
        }
      ]
    },
    {
      "cell_type": "code",
      "source": [
        "# re-updating the values\n",
        "X = standardized_data\n",
        "Y = diabetes_dataset['Outcome']"
      ],
      "metadata": {
        "id": "c6jaR0p7CA9b"
      },
      "execution_count": 10,
      "outputs": []
    },
    {
      "cell_type": "code",
      "source": [
        "#Training and Testing\n",
        "X_training, X_testing, Y_training, Y_testing = train_test_split(X, Y, test_size = 0.1, stratify = Y, random_state = 2)\n",
        "#why test_size = 0.1? testing data is 10% of total dataset\n"
      ],
      "metadata": {
        "id": "KM6AHLZ9CJsL"
      },
      "execution_count": 11,
      "outputs": []
    },
    {
      "cell_type": "markdown",
      "source": [],
      "metadata": {
        "id": "56i5mf-UevE2"
      }
    },
    {
      "cell_type": "code",
      "source": [
        "#Training the model\n",
        "svm_classifier = svm.SVC(kernel = 'linear')"
      ],
      "metadata": {
        "id": "hrlqI7UrC188"
      },
      "execution_count": 12,
      "outputs": []
    },
    {
      "cell_type": "code",
      "source": [
        "svm_classifier.fit(X_training, Y_training)"
      ],
      "metadata": {
        "id": "-b2l2LxPDDe_",
        "colab": {
          "base_uri": "https://localhost:8080/",
          "height": 75
        },
        "outputId": "4fda43eb-7802-48b5-8d92-4840525ddb0c"
      },
      "execution_count": 13,
      "outputs": [
        {
          "output_type": "execute_result",
          "data": {
            "text/plain": [
              "SVC(kernel='linear')"
            ],
            "text/html": [
              "<style>#sk-container-id-1 {color: black;background-color: white;}#sk-container-id-1 pre{padding: 0;}#sk-container-id-1 div.sk-toggleable {background-color: white;}#sk-container-id-1 label.sk-toggleable__label {cursor: pointer;display: block;width: 100%;margin-bottom: 0;padding: 0.3em;box-sizing: border-box;text-align: center;}#sk-container-id-1 label.sk-toggleable__label-arrow:before {content: \"▸\";float: left;margin-right: 0.25em;color: #696969;}#sk-container-id-1 label.sk-toggleable__label-arrow:hover:before {color: black;}#sk-container-id-1 div.sk-estimator:hover label.sk-toggleable__label-arrow:before {color: black;}#sk-container-id-1 div.sk-toggleable__content {max-height: 0;max-width: 0;overflow: hidden;text-align: left;background-color: #f0f8ff;}#sk-container-id-1 div.sk-toggleable__content pre {margin: 0.2em;color: black;border-radius: 0.25em;background-color: #f0f8ff;}#sk-container-id-1 input.sk-toggleable__control:checked~div.sk-toggleable__content {max-height: 200px;max-width: 100%;overflow: auto;}#sk-container-id-1 input.sk-toggleable__control:checked~label.sk-toggleable__label-arrow:before {content: \"▾\";}#sk-container-id-1 div.sk-estimator input.sk-toggleable__control:checked~label.sk-toggleable__label {background-color: #d4ebff;}#sk-container-id-1 div.sk-label input.sk-toggleable__control:checked~label.sk-toggleable__label {background-color: #d4ebff;}#sk-container-id-1 input.sk-hidden--visually {border: 0;clip: rect(1px 1px 1px 1px);clip: rect(1px, 1px, 1px, 1px);height: 1px;margin: -1px;overflow: hidden;padding: 0;position: absolute;width: 1px;}#sk-container-id-1 div.sk-estimator {font-family: monospace;background-color: #f0f8ff;border: 1px dotted black;border-radius: 0.25em;box-sizing: border-box;margin-bottom: 0.5em;}#sk-container-id-1 div.sk-estimator:hover {background-color: #d4ebff;}#sk-container-id-1 div.sk-parallel-item::after {content: \"\";width: 100%;border-bottom: 1px solid gray;flex-grow: 1;}#sk-container-id-1 div.sk-label:hover label.sk-toggleable__label {background-color: #d4ebff;}#sk-container-id-1 div.sk-serial::before {content: \"\";position: absolute;border-left: 1px solid gray;box-sizing: border-box;top: 0;bottom: 0;left: 50%;z-index: 0;}#sk-container-id-1 div.sk-serial {display: flex;flex-direction: column;align-items: center;background-color: white;padding-right: 0.2em;padding-left: 0.2em;position: relative;}#sk-container-id-1 div.sk-item {position: relative;z-index: 1;}#sk-container-id-1 div.sk-parallel {display: flex;align-items: stretch;justify-content: center;background-color: white;position: relative;}#sk-container-id-1 div.sk-item::before, #sk-container-id-1 div.sk-parallel-item::before {content: \"\";position: absolute;border-left: 1px solid gray;box-sizing: border-box;top: 0;bottom: 0;left: 50%;z-index: -1;}#sk-container-id-1 div.sk-parallel-item {display: flex;flex-direction: column;z-index: 1;position: relative;background-color: white;}#sk-container-id-1 div.sk-parallel-item:first-child::after {align-self: flex-end;width: 50%;}#sk-container-id-1 div.sk-parallel-item:last-child::after {align-self: flex-start;width: 50%;}#sk-container-id-1 div.sk-parallel-item:only-child::after {width: 0;}#sk-container-id-1 div.sk-dashed-wrapped {border: 1px dashed gray;margin: 0 0.4em 0.5em 0.4em;box-sizing: border-box;padding-bottom: 0.4em;background-color: white;}#sk-container-id-1 div.sk-label label {font-family: monospace;font-weight: bold;display: inline-block;line-height: 1.2em;}#sk-container-id-1 div.sk-label-container {text-align: center;}#sk-container-id-1 div.sk-container {/* jupyter's `normalize.less` sets `[hidden] { display: none; }` but bootstrap.min.css set `[hidden] { display: none !important; }` so we also need the `!important` here to be able to override the default hidden behavior on the sphinx rendered scikit-learn.org. See: https://github.com/scikit-learn/scikit-learn/issues/21755 */display: inline-block !important;position: relative;}#sk-container-id-1 div.sk-text-repr-fallback {display: none;}</style><div id=\"sk-container-id-1\" class=\"sk-top-container\"><div class=\"sk-text-repr-fallback\"><pre>SVC(kernel=&#x27;linear&#x27;)</pre><b>In a Jupyter environment, please rerun this cell to show the HTML representation or trust the notebook. <br />On GitHub, the HTML representation is unable to render, please try loading this page with nbviewer.org.</b></div><div class=\"sk-container\" hidden><div class=\"sk-item\"><div class=\"sk-estimator sk-toggleable\"><input class=\"sk-toggleable__control sk-hidden--visually\" id=\"sk-estimator-id-1\" type=\"checkbox\" checked><label for=\"sk-estimator-id-1\" class=\"sk-toggleable__label sk-toggleable__label-arrow\">SVC</label><div class=\"sk-toggleable__content\"><pre>SVC(kernel=&#x27;linear&#x27;)</pre></div></div></div></div></div>"
            ]
          },
          "metadata": {},
          "execution_count": 13
        }
      ]
    },
    {
      "cell_type": "code",
      "source": [
        "#Let's get to know the accuracy of the training model\n",
        "X_trained_prediction = svm_classifier.predict(X_training)\n",
        "trained_data_accuracy = accuracy_score(X_trained_prediction, Y_training)\n",
        "print(f'Accuracy of the trained data is {trained_data_accuracy*100}%')"
      ],
      "metadata": {
        "colab": {
          "base_uri": "https://localhost:8080/"
        },
        "id": "XqFfiLdiDNQl",
        "outputId": "1375b31d-eaad-42da-9bf0-2bd315ed414c"
      },
      "execution_count": 14,
      "outputs": [
        {
          "output_type": "stream",
          "name": "stdout",
          "text": [
            "Accuracy of the trained data is 78.43704775687411%\n"
          ]
        }
      ]
    },
    {
      "cell_type": "code",
      "source": [
        "#Now, let's calculate the accuracy of the testing model\n",
        "X_testing_prediction = svm_classifier.predict(X_testing)\n",
        "testing_data_accuracy = accuracy_score(X_testing_prediction, Y_testing)\n",
        "print(f'Accuracy of the testing data is {testing_data_accuracy*100}%')"
      ],
      "metadata": {
        "colab": {
          "base_uri": "https://localhost:8080/"
        },
        "id": "sRTzTsZBDvji",
        "outputId": "e1624132-5e06-4432-b2cf-e72f623f0567"
      },
      "execution_count": 15,
      "outputs": [
        {
          "output_type": "stream",
          "name": "stdout",
          "text": [
            "Accuracy of the testing data is 77.92207792207793%\n"
          ]
        }
      ]
    },
    {
      "cell_type": "code",
      "source": [
        "#Since the accuracy scores of both the training data and testing data is really close,\n",
        "#we can say that the SVM model was trained perfectly without any cause of overfitting\n"
      ],
      "metadata": {
        "id": "bqMuMosQEtpj"
      },
      "execution_count": 16,
      "outputs": []
    },
    {
      "cell_type": "code",
      "source": [
        "#Let's now test our SVM Classifier!\n",
        "input_data = (4, 110, 92, 0, 0, 37.6, 0.191, 30)\n",
        "#we didn't give any outcome value since we will be predicting it using the classifier\n",
        "input_data_in_numpyarray = np.asarray(input_data)\n",
        "#reshaping it for one testing value\n",
        "reshaped_input_data = input_data_in_numpyarray.reshape(1, -1)\n",
        "#need to standardize the data for getting the correct output\n",
        "std_data = scaler.transform(reshaped_input_data)\n"
      ],
      "metadata": {
        "id": "JSNUWx1MFbgD",
        "colab": {
          "base_uri": "https://localhost:8080/"
        },
        "outputId": "6b3ebadb-c9aa-44e7-e70e-84af4b95ae2b"
      },
      "execution_count": 17,
      "outputs": [
        {
          "output_type": "stream",
          "name": "stderr",
          "text": [
            "/usr/local/lib/python3.10/dist-packages/sklearn/base.py:439: UserWarning: X does not have valid feature names, but StandardScaler was fitted with feature names\n",
            "  warnings.warn(\n"
          ]
        }
      ]
    },
    {
      "cell_type": "code",
      "source": [
        "#printing the standard data and printing the output\n",
        "print(std_data)\n",
        "predictor = svm_classifier.predict(std_data)\n",
        "print(f'The output for the given data is: {predictor}')\n",
        "\n",
        "if(predictor[0]==0):\n",
        "  print(\"The person is non diabetic!\")\n",
        "else:\n",
        "  print(\"The person is diabetic :(\")\n"
      ],
      "metadata": {
        "colab": {
          "base_uri": "https://localhost:8080/"
        },
        "id": "q9ZmvfZkILT-",
        "outputId": "89d3f37d-db9a-4b32-816e-c877a5b7fc6d"
      },
      "execution_count": 18,
      "outputs": [
        {
          "output_type": "stream",
          "name": "stdout",
          "text": [
            "[[ 0.04601433 -0.34096773  1.18359575 -1.28821221 -0.69289057  0.71168975\n",
            "  -0.84827977 -0.27575966]]\n",
            "The output for the given data is: [0]\n",
            "The person is non diabetic!\n"
          ]
        }
      ]
    },
    {
      "cell_type": "code",
      "source": [
        "#The prediction is correct!\n",
        "#The model has been trained successfully!"
      ],
      "metadata": {
        "id": "fMZlx_uNIbbs"
      },
      "execution_count": 19,
      "outputs": []
    },
    {
      "cell_type": "code",
      "source": [
        "\n",
        "#PERFORMING DIMENSIONALITY REDUCTION!\n",
        "# Selecting all 8 features\n",
        "selected_features_indices = list(range(8))  # Indices of all 8 features\n",
        "X_set = X_testing[:, selected_features_indices]\n",
        "Y_set = Y_testing\n",
        "\n",
        "# Apply PCA to reduce dimensionality to 2 components\n",
        "pca = PCA(n_components=2)\n",
        "X_pca = pca.fit_transform(X_set)\n",
        "\n",
        "# Retrain SVM classifier using the reduced-dimensional data\n",
        "svm_classifier_pca = svm.SVC(kernel='linear')\n",
        "svm_classifier_pca.fit(X_pca, Y_set)\n",
        "\n",
        "# Create a meshgrid for plotting the decision boundary\n",
        "mesh_step = 0.1  # Step size for meshgrid\n",
        "x_min, x_max = X_pca[:, 0].min() - 1, X_pca[:, 0].max() + 1\n",
        "y_min, y_max = X_pca[:, 1].min() - 1, X_pca[:, 1].max() + 1\n",
        "xx, yy = np.meshgrid(np.arange(x_min, x_max, mesh_step), np.arange(y_min, y_max, mesh_step))\n",
        "\n",
        "# Predict the labels for each point in the meshgrid\n",
        "meshgrid_points = np.c_[xx.ravel(), yy.ravel()]\n",
        "Z = svm_classifier_pca.predict(meshgrid_points)\n",
        "Z = Z.reshape(xx.shape)\n",
        "\n",
        "# Plot the decision boundary and data points\n",
        "plt.contourf(xx, yy, Z, alpha=0.75, cmap=ListedColormap(('green', 'red')))\n",
        "for i, j in enumerate(np.unique(Y_set)):\n",
        "    plt.scatter(X_pca[Y_set == j, 0], X_pca[Y_set == j, 1], c=ListedColormap(('green', 'red'))(i), label=j)\n",
        "\n",
        "plt.title('SVM Decision Boundary (PCA)')\n",
        "plt.xlabel('Principal Component 1')\n",
        "plt.ylabel('Principal Component 2')\n",
        "plt.legend()\n",
        "plt.show()\n"
      ],
      "metadata": {
        "id": "7FkbN9gGSX8W",
        "colab": {
          "base_uri": "https://localhost:8080/",
          "height": 527
        },
        "outputId": "069ba43b-fe07-421d-9c62-c38fe9ae9b74"
      },
      "execution_count": 20,
      "outputs": [
        {
          "output_type": "stream",
          "name": "stderr",
          "text": [
            "<ipython-input-20-aef6bb7ff6ea>:29: UserWarning: *c* argument looks like a single numeric RGB or RGBA sequence, which should be avoided as value-mapping will have precedence in case its length matches with *x* & *y*.  Please use the *color* keyword-argument or provide a 2D array with a single row if you intend to specify the same RGB or RGBA value for all points.\n",
            "  plt.scatter(X_pca[Y_set == j, 0], X_pca[Y_set == j, 1], c=ListedColormap(('green', 'red'))(i), label=j)\n"
          ]
        },
        {
          "output_type": "display_data",
          "data": {
            "text/plain": [
              "<Figure size 640x480 with 1 Axes>"
            ],
            "image/png": "[encoded data removed]"
          },
          "metadata": {}
        }
      ]
    },
    {
      "cell_type": "code",
      "source": [],
      "metadata": {
        "id": "o00RwsopjDpg"
      },
      "execution_count": null,
      "outputs": []
    }
  ]
}